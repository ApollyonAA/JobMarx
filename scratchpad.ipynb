{
 "cells": [
  {
   "cell_type": "code",
   "execution_count": 5,
   "id": "3a3faeb6-7084-4f43-bdaf-d1d30db959d1",
   "metadata": {
    "tags": []
   },
   "outputs": [
    {
     "name": "stdout",
     "output_type": "stream",
     "text": [
      " * Serving Flask app '__main__'\n",
      " * Debug mode: on\n"
     ]
    },
    {
     "name": "stderr",
     "output_type": "stream",
     "text": [
      "WARNING: This is a development server. Do not use it in a production deployment. Use a production WSGI server instead.\n",
      " * Running on http://127.0.0.1:5000\n",
      "Press CTRL+C to quit\n",
      "127.0.0.1 - - [01/Sep/2023 19:22:51] \"GET / HTTP/1.1\" 500 -\n",
      "Traceback (most recent call last):\n",
      "  File \"C:\\Users\\dusti\\anaconda3\\lib\\site-packages\\flask\\app.py\", line 2213, in __call__\n",
      "    return self.wsgi_app(environ, start_response)\n",
      "  File \"C:\\Users\\dusti\\anaconda3\\lib\\site-packages\\flask\\app.py\", line 2193, in wsgi_app\n",
      "    response = self.handle_exception(e)\n",
      "  File \"C:\\Users\\dusti\\anaconda3\\lib\\site-packages\\flask\\app.py\", line 2190, in wsgi_app\n",
      "    response = self.full_dispatch_request()\n",
      "  File \"C:\\Users\\dusti\\anaconda3\\lib\\site-packages\\flask\\app.py\", line 1487, in full_dispatch_request\n",
      "    return self.finalize_request(rv)\n",
      "  File \"C:\\Users\\dusti\\anaconda3\\lib\\site-packages\\flask\\app.py\", line 1506, in finalize_request\n",
      "    response = self.make_response(rv)\n",
      "  File \"C:\\Users\\dusti\\anaconda3\\lib\\site-packages\\flask\\app.py\", line 1801, in make_response\n",
      "    raise TypeError(\n",
      "TypeError: The view function for 'home' did not return a valid response. The function either returned None or ended without a return statement.\n",
      "127.0.0.1 - - [01/Sep/2023 19:22:51] \"GET /?__debugger__=yes&cmd=resource&f=style.css HTTP/1.1\" 304 -\n",
      "127.0.0.1 - - [01/Sep/2023 19:22:51] \"GET /?__debugger__=yes&cmd=resource&f=debugger.js HTTP/1.1\" 304 -\n",
      "127.0.0.1 - - [01/Sep/2023 19:22:51] \"GET /?__debugger__=yes&cmd=resource&f=console.png HTTP/1.1\" 304 -\n"
     ]
    }
   ],
   "source": [
    "from flask import Flask, render_template, request\n",
    "\n",
    "app = Flask(__name__)\n",
    "\n",
    "@app.route('/')\n",
    "def home():\n",
    "    return \n",
    "\n",
    "if __name__ == '__main__':\n",
    "    app.run(debug=True,use_reloader=False)"
   ]
  },
  {
   "cell_type": "code",
   "execution_count": null,
   "id": "f949fb4c-e2ea-4659-a9a6-1e800f4f734c",
   "metadata": {},
   "outputs": [],
   "source": []
  }
 ],
 "metadata": {
  "kernelspec": {
   "display_name": "Python 3 (ipykernel)",
   "language": "python",
   "name": "python3"
  },
  "language_info": {
   "codemirror_mode": {
    "name": "ipython",
    "version": 3
   },
   "file_extension": ".py",
   "mimetype": "text/x-python",
   "name": "python",
   "nbconvert_exporter": "python",
   "pygments_lexer": "ipython3",
   "version": "3.11.3"
  }
 },
 "nbformat": 4,
 "nbformat_minor": 5
}
